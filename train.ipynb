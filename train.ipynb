{
 "cells": [
  {
   "cell_type": "markdown",
   "id": "0777fe2a-fd67-44ee-88ed-bff7d15a7176",
   "metadata": {},
   "source": [
    "### Import needed packages"
   ]
  },
  {
   "cell_type": "code",
   "execution_count": 31,
   "id": "e21f0e4f-94a8-4f49-a14c-7fbb121aab71",
   "metadata": {},
   "outputs": [],
   "source": [
    "import os\n",
    "import pandas as pd\n",
    "from keras.preprocessing.image import ImageDataGenerator\n",
    "from utils import split_dataset\n",
    "from main import one, two"
   ]
  },
  {
   "cell_type": "markdown",
   "id": "f4600271-cb11-432f-8fae-459fe48050d3",
   "metadata": {},
   "source": [
    "### Specify all the needed directories"
   ]
  },
  {
   "cell_type": "code",
   "execution_count": 32,
   "id": "50e91eec-161d-4e56-9533-73bafa253bbb",
   "metadata": {},
   "outputs": [
    {
     "name": "stdout",
     "output_type": "stream",
     "text": [
      "nv       6705\n",
      "mel      1113\n",
      "bkl      1099\n",
      "bcc       514\n",
      "akiec     327\n",
      "vasc      142\n",
      "df        115\n",
      "Name: dx, dtype: int64\n"
     ]
    }
   ],
   "source": [
    "# Dump all images into a folder and specify the path\n",
    "images_dir = \"data/HAM10000/all_images/\"\n",
    "\n",
    "# Path to destination directory where for want subfolders\n",
    "dest_dir = \"data/HAM10000/reorganized/\"\n",
    "\n",
    "# Read the csv file containing image names and corresponding labels\n",
    "skin_df = pd.read_csv('data/HAM10000/metadata/HAM10000_metadata.csv')\n",
    "print(skin_df['dx'].value_counts())"
   ]
  },
  {
   "cell_type": "markdown",
   "id": "99d9d4fe-99a0-4b4b-83fc-302719515d0c",
   "metadata": {},
   "source": [
    "### Split dataset into various classes"
   ]
  },
  {
   "cell_type": "code",
   "execution_count": 36,
   "id": "4d46edd5-a82b-42f8-a3ff-62c9e5ebc040",
   "metadata": {
    "tags": []
   },
   "outputs": [],
   "source": [
    "# Extract labels into a list\n",
    "label = skin_df['dx'].unique().tolist()  #Extract labels into a list\n",
    "\n",
    "# Initialize array to store image classes\n",
    "label_images = []\n",
    "\n",
    "split_dataset.split_into_classes(label, skin_df, label_images,\n",
    "                                                images_dir, dest_dir)"
   ]
  },
  {
   "cell_type": "markdown",
   "id": "53746e3d-ef26-4518-bf50-025d6a7dfcf6",
   "metadata": {},
   "source": [
    "### Split dataset into train, test and validation"
   ]
  },
  {
   "cell_type": "code",
   "execution_count": 12,
   "id": "95e53d0f-d4ac-46cc-8507-705426cf503b",
   "metadata": {},
   "outputs": [
    {
     "name": "stdout",
     "output_type": "stream",
     "text": [
      "Total images:  10015\n",
      "Training:  7010\n",
      "Validation:  1502\n",
      "Testing:  1503\n"
     ]
    }
   ],
   "source": [
    "# split dataset into train, test and validation dirs (run this once)\n",
    "split_dataset.split_into_train_test_val(images_dir)"
   ]
  },
  {
   "cell_type": "markdown",
   "id": "b59dc58d-e356-4ae7-9854-6563384d28b2",
   "metadata": {},
   "source": [
    "### Specify training images directory"
   ]
  },
  {
   "cell_type": "code",
   "execution_count": 5,
   "id": "47eb12ae-7fd2-4285-89a9-b35aeaf61d18",
   "metadata": {},
   "outputs": [],
   "source": [
    "train_dir = \"data/images/sample\""
   ]
  },
  {
   "cell_type": "markdown",
   "id": "5e76b7c4-7096-494f-ba5e-39abd1d999f1",
   "metadata": {},
   "source": [
    "### Define keras datagen"
   ]
  },
  {
   "cell_type": "code",
   "execution_count": null,
   "id": "779e2228-b3b4-4ee0-9899-98085b02d29e",
   "metadata": {},
   "outputs": [],
   "source": [
    "# Images need to be in a sub-dir under the train_dir for it to work\n",
    "train_data_keras = datagen.flow_from_directory(\n",
    "    directory=train_dir,\n",
    "    class_mode='categorical',\n",
    "    batch_size=16,  #16 images at a time\n",
    "    target_size=(32, 32))  # images"
   ]
  },
  {
   "cell_type": "markdown",
   "id": "5b88ab1d-1ae9-4b6c-973b-e1ba0f546d2e",
   "metadata": {},
   "source": [
    "### Enhance images"
   ]
  },
  {
   "cell_type": "code",
   "execution_count": 14,
   "id": "9aba89e1-7dbe-4f71-a328-4dddad1a7ccf",
   "metadata": {},
   "outputs": [
    {
     "name": "stdout",
     "output_type": "stream",
     "text": [
      "['bkl', 'nv', 'df', 'mel', 'vasc', 'bcc', 'akiec']\n"
     ]
    }
   ],
   "source": [
    "# Path for refined images\n",
    "# refined_yolo = 'data/images/refined_yolo'\n",
    "# refined_resnet = 'data/images/refined_resnet'\n",
    "\n",
    "# Refine the training images before passing them to the model\n",
    "# one.refine(train_data_keras, refined_yolo)\n",
    "# two.refine(train_data_keras, refined_resnet)\n",
    "print(label)"
   ]
  },
  {
   "cell_type": "code",
   "execution_count": null,
   "id": "9eba1370-afb5-4e96-ae05-fe0df6c4aefc",
   "metadata": {},
   "outputs": [],
   "source": []
  }
 ],
 "metadata": {
  "kernelspec": {
   "display_name": "Python 3",
   "language": "python",
   "name": "python3"
  },
  "language_info": {
   "codemirror_mode": {
    "name": "ipython",
    "version": 3
   },
   "file_extension": ".py",
   "mimetype": "text/x-python",
   "name": "python",
   "nbconvert_exporter": "python",
   "pygments_lexer": "ipython3",
   "version": "3.9.5"
  }
 },
 "nbformat": 4,
 "nbformat_minor": 5
}
